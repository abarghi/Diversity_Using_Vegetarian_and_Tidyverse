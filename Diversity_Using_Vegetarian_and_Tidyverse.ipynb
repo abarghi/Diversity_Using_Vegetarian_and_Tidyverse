{
 "cells": [
  {
   "cell_type": "markdown",
   "metadata": {},
   "source": [
    "# A Tidyverse Approach to Alpha, Beta and Gamma Diversities\n",
    "\n",
    "## Computed and Visualized Using Formulas and Using the Package `vegetarian`\n",
    "\n",
    "### Amir Barghi"
   ]
  },
  {
   "cell_type": "markdown",
   "metadata": {},
   "source": [
    "# The Formulas\n",
    "\n",
    "For the formulas used in this file, see the following articles:\n",
    "\n",
    "- L. Jost, \"Entropy and diversity\", *Oikos*, vol. 113, pp. 363--375, Jan. 2006.\n",
    "- L. Jost, \"Partitioning diversity into independent alpha and beta components\", *Ecology*, vol. 88, pp. 2427--2439, Oct. 2008. \n",
    "\n",
    "# Loading Packages"
   ]
  },
  {
   "cell_type": "code",
   "execution_count": null,
   "metadata": {
    "attributes": {
     "": "",
     "classes": [],
     "id": ""
    }
   },
   "outputs": [],
   "source": [
    "library(vegetarian)\n",
    "\n",
    "library(tidyverse)\n",
    "\n",
    "library(latex2exp)"
   ]
  },
  {
   "cell_type": "code",
   "execution_count": null,
   "metadata": {},
   "outputs": [],
   "source": [
    "# about the vegetarian package\n",
    "?vegetarian"
   ]
  },
  {
   "cell_type": "markdown",
   "metadata": {},
   "source": [
    "# Loading the Data Set `vegetarian::simesants`"
   ]
  },
  {
   "cell_type": "code",
   "execution_count": null,
   "metadata": {},
   "outputs": [],
   "source": [
    "data(simesants)"
   ]
  },
  {
   "cell_type": "code",
   "execution_count": null,
   "metadata": {},
   "outputs": [],
   "source": [
    "df <- simesants"
   ]
  },
  {
   "cell_type": "markdown",
   "metadata": {},
   "source": [
    "# Tidying the Data Set"
   ]
  },
  {
   "cell_type": "code",
   "execution_count": null,
   "metadata": {},
   "outputs": [],
   "source": [
    "# adding a new column `Weight`\n",
    "# `Weight` is the proportion of the total population in each `Habitat`\n",
    "df <- df %>% \n",
    "  rowwise() %>% \n",
    "  mutate(Count = sum(c_across(where(is.numeric)))) %>%\n",
    "  ungroup()\n",
    "\n",
    "df <- df %>% \n",
    "  mutate(Total_Count = sum(Count))\n",
    "\n",
    "df <- df %>% \n",
    "  mutate(Weight = Count / Total_Count)\n",
    "\n",
    "df <- df %>% \n",
    "  select(Habitat, Weight, everything(), -Count, -Total_Count)\n",
    "\n",
    "df"
   ]
  },
  {
   "cell_type": "code",
   "execution_count": null,
   "metadata": {},
   "outputs": [],
   "source": [
    "var_names <- df %>% \n",
    "  select(-Habitat, -Weight) %>% names() \n",
    "\n",
    "DF <- df %>% \n",
    "  gather(all_of(var_names), key = 'Species', value = 'Count') %>% \n",
    "  filter(Count > 0) %>%\n",
    "  select(Habitat, Species, everything())\n",
    "\n",
    "DF # gathered data set, with zero counts removed"
   ]
  },
  {
   "cell_type": "code",
   "execution_count": null,
   "metadata": {},
   "outputs": [],
   "source": [
    "# number of habitats or communities\n",
    "N <- DF %>% select(Habitat) %>% unique() %>% nrow()"
   ]
  },
  {
   "cell_type": "markdown",
   "metadata": {},
   "source": [
    "# Gamma Diversities \n",
    "\n",
    "### Unweighted Gamma Diversities Computed Using Fromulas and Using `vegetarian::d`"
   ]
  },
  {
   "cell_type": "code",
   "execution_count": null,
   "metadata": {},
   "outputs": [],
   "source": [
    "giml_df <- DF %>% \n",
    "  group_by(Habitat) %>% \n",
    "  mutate(Habitat_Pop = sum(Count)) %>% \n",
    "  ungroup()\n",
    "\n",
    "giml_u_m <- giml_df %>% \n",
    "  mutate(Total_Pop = sum(Count), \n",
    "         Prop = Count / Habitat_Pop, \n",
    "         Weight = 1 / N)\n",
    "\n",
    "giml_u_m <- giml_u_m %>% \n",
    "  select(-Habitat) %>%\n",
    "  group_by(Species) %>%\n",
    "  mutate(Weighted_Prop = sum(Prop * Weight)) %>% \n",
    "  ungroup() %>%\n",
    "  select(Species, Weighted_Prop) %>%\n",
    "  unique()\n",
    "\n",
    "giml_u_m <- giml_u_m %>% \n",
    "  summarise(Gamma_Richness = n(),\n",
    "            Gamma_Shannon = exp(-sum(Weighted_Prop * log(Weighted_Prop))),\n",
    "            Gamma_Greenberg = 1 / sum(Weighted_Prop ** 2))\n",
    "\n",
    "giml_u_m\n",
    "\n",
    "giml_u_v <- df %>% \n",
    "  summarise(Gamma_Richness = d(.[, -c(1, 2)], lev = 'gamma', q = 0), \n",
    "            Gamma_Shannon = d(.[, -c(1, 2)], lev = 'gamma', q = 1), \n",
    "            Gamma_Greenberg = d(.[, -c(1, 2)], lev = 'gamma', q = 2))\n",
    "\n",
    "giml_u_v"
   ]
  },
  {
   "cell_type": "markdown",
   "metadata": {},
   "source": [
    "### Weighted Gamma Diversities Computed Using Fromulas and Using `vegetarian::d`"
   ]
  },
  {
   "cell_type": "code",
   "execution_count": null,
   "metadata": {},
   "outputs": [],
   "source": [
    "giml_w_m <- giml_df %>% \n",
    "  mutate(Total_Pop = sum(Count), \n",
    "         Prop = Count / Habitat_Pop, \n",
    "         Weight = Habitat_Pop / Total_Pop)\n",
    "\n",
    "giml_w_m <- giml_w_m %>%  \n",
    "  select(-Habitat) %>%\n",
    "  group_by(Species) %>%\n",
    "  mutate(Weighted_Prop = sum(Prop * Weight)) %>% \n",
    "  ungroup() %>%\n",
    "  select(Species, Weighted_Prop) %>%\n",
    "  unique()\n",
    "\n",
    "giml_w_m <- giml_w_m %>% \n",
    "  summarise(Gamma_Richness = n(),\n",
    "            Gamma_Shannon = exp(-sum(Weighted_Prop * log(Weighted_Prop))),\n",
    "            Gamma_Greenberg = 1 / sum(Weighted_Prop ** 2))\n",
    "\n",
    "giml_w_m\n",
    "\n",
    "giml_w_v <- df %>% \n",
    "  summarise(Gamma_Richness = d(.[, -c(1, 2)], lev = 'gamma', wt = .$Weight, q = 0),\n",
    "            Gamma_Shannon = d(.[, -c(1, 2)], lev = 'gamma', wt = .$Weight, q = 1),\n",
    "            Gamma_Greenberg = d(.[, -c(1, 2)], lev = 'gamma', wt = .$Weight, q = 2))\n",
    "\n",
    "giml_w_v"
   ]
  },
  {
   "cell_type": "markdown",
   "metadata": {},
   "source": [
    "# Alpha Diversities \n",
    "\n",
    "### Unweighted Alpha Diversities Computed Using Fromulas and Using `vegetarian::d`"
   ]
  },
  {
   "cell_type": "code",
   "execution_count": null,
   "metadata": {},
   "outputs": [],
   "source": [
    "alep_df <- DF %>% mutate(Total_Pop = sum(Count))\n",
    "\n",
    "alep_u_m <- alep_df %>% \n",
    "  group_by(Habitat) %>% \n",
    "  mutate(Pop = sum(Count), \n",
    "         Prop = Count / Pop,\n",
    "         Total_Prop = Count / Total_Pop,\n",
    "         Weight = 1 / N)\n",
    "\n",
    "suppressMessages(alep_u_m <- alep_u_m %>% \n",
    "                   summarise(Richness = n(), \n",
    "                             Shannon = -sum(Prop * log(Prop)),\n",
    "                             Greenberg = sum(Prop ** 2)) %>%\n",
    "                   ungroup() %>% \n",
    "                   unique())\n",
    "\n",
    "alep_u_m <- alep_u_m %>% \n",
    "  summarise(Alpha_Richness = mean(Richness), \n",
    "            Alpha_Shannon = exp(mean(Shannon)), \n",
    "            Alpha_Greenberg = 1 / mean(Greenberg))\n",
    "\n",
    "alep_u_m\n",
    "\n",
    "alep_u_v <- df %>% \n",
    "  summarise(Alpha_Richness = d(.[, -c(1, 2)], lev = 'alpha', q = 0), \n",
    "            Alpha_Shannon = d(.[, -c(1, 2)], lev = 'alpha', q = 1), \n",
    "            Alpha_Greenberg = d(.[, -c(1, 2)], lev = 'alpha', q = 2))\n",
    "\n",
    "alep_u_v"
   ]
  },
  {
   "cell_type": "markdown",
   "metadata": {},
   "source": [
    "### Weighted Alpha Diversities Computed Using Fromulas and Using `vegetarian::d`"
   ]
  },
  {
   "cell_type": "code",
   "execution_count": null,
   "metadata": {},
   "outputs": [],
   "source": [
    "alep_df <- DF %>% mutate(Total_Pop = sum(Count))\n",
    "\n",
    "alep_w_m <- alep_df %>% \n",
    "  group_by(Habitat) %>% \n",
    "  mutate(Habitat_Pop = sum(Count), \n",
    "         Prop = Count / Habitat_Pop,\n",
    "         Weight = Habitat_Pop / Total_Pop,\n",
    "         Richness = n(),\n",
    "         Shannon = -sum(Prop * log(Prop)),\n",
    "         Greenberg = sum(Prop ** 2)) %>%\n",
    "  ungroup() %>%\n",
    "  select(Habitat, \n",
    "         Richness, \n",
    "         Shannon, \n",
    "         Greenberg, \n",
    "         Habitat_Pop, \n",
    "         Total_Pop, \n",
    "         Weight) %>%\n",
    "  unique()\n",
    "        \n",
    "suppressMessages(alep_w_m <- alep_w_m %>% \n",
    "                   summarise(Alpha_Richness = mean(Richness),\n",
    "                             Alpha_Shannon = exp(sum(Shannon * Weight)),\n",
    "                             Alpha_Greenberg = sum(Weight ** 2) / sum(Weight ** 2 * Greenberg )))\n",
    "\n",
    "alep_w_m\n",
    "\n",
    "alep_w_v <- df %>% \n",
    "  summarise(Alpha_Richness = d(.[, -c(1, 2)], lev = 'alpha', wt = .$Weight, q = 0), \n",
    "            Alpha_Shannon = d(.[, -c(1, 2)], lev = 'alpha', wt = .$Weight, q = 1),\n",
    "            Alpha_Greenberg = d(.[, -c(1, 2)], lev = 'alpha', wt = .$Weight, q = 2))\n",
    "\n",
    "alep_w_v"
   ]
  },
  {
   "cell_type": "markdown",
   "metadata": {},
   "source": [
    "# Beta Diversities \n",
    "\n",
    "### Unweighted Beta Diversities Computed Using Fromulas and Using `vegetarian::d`"
   ]
  },
  {
   "cell_type": "code",
   "execution_count": null,
   "metadata": {},
   "outputs": [],
   "source": [
    "bet_u_m <- giml_u_m / alep_u_m \n",
    "\n",
    "names(bet_u_m) <- c('Beta_Richness', 'Beta_Shannon', 'Beta_Greenberg')\n",
    "\n",
    "bet_u_v <- giml_u_v / alep_u_v\n",
    "\n",
    "names(bet_u_v) <- c('Beta_Richness', 'Beta_Shannon', 'Beta_Greenberg')\n",
    "\n",
    "bet_u_m\n",
    "\n",
    "bet_u_v"
   ]
  },
  {
   "cell_type": "code",
   "execution_count": null,
   "metadata": {},
   "outputs": [],
   "source": [
    "# alternatively\n",
    "beta_u_v <- df %>% \n",
    "  summarise(Beta_Richness = d(.[, -c(1, 2)], lev = 'beta', q = 0), \n",
    "            Beta_Shannon = d(.[, -c(1, 2)], lev = 'beta', q = 1), \n",
    "            Beta_Greenberg = d(.[, -c(1, 2)], lev = 'beta', q = 2))\n",
    "\n",
    "beta_u_v"
   ]
  },
  {
   "cell_type": "markdown",
   "metadata": {},
   "source": [
    "### Weighted Beta Diversities Computed Using Fromulas and Using `vegetarian::d`"
   ]
  },
  {
   "cell_type": "code",
   "execution_count": null,
   "metadata": {},
   "outputs": [],
   "source": [
    "bet_w_m <- giml_w_m / alep_w_m\n",
    "\n",
    "names(bet_w_m) <- c('Beta_Richness', 'Beta_Shannon', 'Beta_Greenberg')\n",
    "\n",
    "bet_w_v <- giml_w_v / alep_w_v\n",
    "\n",
    "names(bet_w_v) <- c('Beta_Richness', 'Beta_Shannon', 'Beta_Greenberg')\n",
    "\n",
    "bet_w_m\n",
    "\n",
    "bet_w_v"
   ]
  },
  {
   "cell_type": "code",
   "execution_count": null,
   "metadata": {},
   "outputs": [],
   "source": [
    "# alternatively\n",
    "beta_u_v <- df %>% \n",
    "  summarise(Beta_Richness = d(.[, -c(1, 2)], lev = 'beta', wt = .$Weight, q = 0), \n",
    "            Beta_Shannon = d(.[, -c(1, 2)], lev = 'beta', wt = .$Weight, q = 1), \n",
    "            Beta_Greenberg = d(.[, -c(1, 2)], lev = 'beta', wt = .$Weight, q = 2))\n",
    "\n",
    "beta_u_v"
   ]
  },
  {
   "cell_type": "markdown",
   "metadata": {},
   "source": [
    "# Visualizing Diversities"
   ]
  },
  {
   "cell_type": "code",
   "execution_count": null,
   "metadata": {},
   "outputs": [],
   "source": [
    "# defining two ranges: (0, 1) and (1, 10)\n",
    "range_1 <- seq(0.001, 1, .01)\n",
    "\n",
    "range_2 <- seq(1.001, 5, .01)"
   ]
  },
  {
   "cell_type": "markdown",
   "metadata": {},
   "source": [
    "### Visualizing Unweighted Gamma Diversity Computed Using Fromulas"
   ]
  },
  {
   "cell_type": "code",
   "execution_count": null,
   "metadata": {},
   "outputs": [],
   "source": [
    "qsum1_g_u_m <- NULL\n",
    "\n",
    "giml <- giml_df %>% \n",
    "  mutate(Total_Pop = sum(Count), \n",
    "         Prop = Count / Habitat_Pop, \n",
    "         Weight = 1 / N)\n",
    "\n",
    "for (q in range_1) {\n",
    "  \n",
    "    df2 <- NULL\n",
    "    \n",
    "    df2 <- giml %>%  \n",
    "      select(-Habitat) %>%\n",
    "      group_by(Species) %>%\n",
    "      mutate(Weighted_Prop = sum(Prop * Weight)) %>% \n",
    "      ungroup() %>%\n",
    "      select(Species, Weighted_Prop) %>%\n",
    "      unique()\n",
    "    \n",
    "    df2 <- df2 %>% \n",
    "      summarise(Giml_Manual = sum(Weighted_Prop ** q) ** (1/ (1 - q)), \n",
    "                q = q)\n",
    "    \n",
    "    qsum1_g_u_m <- rbind(qsum1_g_u_m, df2)\n",
    "    \n",
    "}\n",
    "\n",
    "print(qsum1_g_u_m %>% \n",
    "        ggplot(aes(x = q, y = Giml_Manual)) + \n",
    "        geom_line( color = 'blue') +\n",
    "        geom_hline(yintercept = giml_u_m$Gamma_Shannon, color = 'green') +\n",
    "        geom_vline(xintercept = 1, color= 'green') + \n",
    "        geom_hline(yintercept = giml_u_m$Gamma_Richness, color = 'yellow') +\n",
    "        geom_vline(xintercept = 0, color= 'yellow') + \n",
    "        labs(title = 'Unweighted Gamma Diversity Computed Using Fromulas ') +\n",
    "        xlab(TeX('$q$')) +\n",
    "        ylab(TeX('$\\\\gamma$ Diversity'))) "
   ]
  },
  {
   "cell_type": "code",
   "execution_count": null,
   "metadata": {},
   "outputs": [],
   "source": [
    "qsum2_g_u_m <- NULL\n",
    "\n",
    "giml <- giml_df %>% \n",
    "  mutate(Total_Pop = sum(Count), \n",
    "         Prop = Count / Habitat_Pop,\n",
    "         Weight = 1 / N)\n",
    "\n",
    "for (q in range_2) {\n",
    "  \n",
    "    df2 <- NULL\n",
    "    \n",
    "    df2 <- giml %>%  \n",
    "      select(-Habitat) %>%\n",
    "      group_by(Species) %>%\n",
    "      mutate(Weighted_Prop = sum(Prop * Weight)) %>% \n",
    "      ungroup() %>%\n",
    "      select(Species, Weighted_Prop) %>%\n",
    "      unique()\n",
    "    \n",
    "    df2 <- df2 %>% \n",
    "      summarise(Giml_Manual = sum(Weighted_Prop ** q) ** (1 / (1 - q)),\n",
    "                q = q)\n",
    "    \n",
    "    qsum2_g_u_m <- rbind(qsum2_g_u_m, df2)\n",
    "    \n",
    "}\n",
    "\n",
    "print(qsum2_g_u_m %>% \n",
    "        ggplot(aes(x = q, y = Giml_Manual)) + \n",
    "        geom_line( color = 'blue') +\n",
    "        geom_hline(yintercept = giml_u_m$Gamma_Shannon, color = 'green') +\n",
    "        geom_vline(xintercept = 1, color= 'green') + \n",
    "        geom_hline(yintercept = giml_u_m$Gamma_Greenberg, color = 'yellow') +\n",
    "        geom_vline(xintercept = 2, color= 'yellow') + \n",
    "        labs(title = 'Unweighted Gamma Diversity Computed Using Fromulas') +\n",
    "        xlab(TeX('$q$')) +\n",
    "        ylab(TeX('$\\\\gamma$ Diversity'))) "
   ]
  },
  {
   "cell_type": "markdown",
   "metadata": {},
   "source": [
    "### Visualizing Weighted Gamma Diversity Computed Using Fromulas"
   ]
  },
  {
   "cell_type": "code",
   "execution_count": null,
   "metadata": {},
   "outputs": [],
   "source": [
    "qsum1_g_w_m <- NULL\n",
    "\n",
    "giml <- giml_df %>% \n",
    "  mutate(Total_Pop = sum(Count), \n",
    "         Prop = Count / Habitat_Pop, \n",
    "         Weight = Habitat_Pop / Total_Pop)\n",
    "\n",
    "for (q in range_1) {\n",
    "  \n",
    "    df2 <- NULL\n",
    "    \n",
    "    df2 <- giml %>%  \n",
    "      select(-Habitat) %>%\n",
    "      group_by(Species) %>%\n",
    "      mutate(Weighted_Prop = sum(Prop * Weight)) %>% \n",
    "      ungroup() %>%\n",
    "      select(Species, Weighted_Prop) %>%\n",
    "      unique()\n",
    "    \n",
    "    df2 <- df2 %>% \n",
    "      summarise(Giml_Manual = sum(Weighted_Prop ** q) ** (1/ (1 - q)), \n",
    "                q = q)\n",
    "    \n",
    "    qsum1_g_w_m <- rbind(qsum1_g_w_m, df2)\n",
    "    \n",
    "}\n",
    "\n",
    "print(qsum1_g_w_m %>% \n",
    "        ggplot(aes(x = q, y = Giml_Manual)) + \n",
    "        geom_line( color = 'blue') +\n",
    "        geom_hline(yintercept = giml_w_m$Gamma_Shannon, color = 'green') +\n",
    "        geom_vline(xintercept = 1, color= 'green') + \n",
    "        geom_hline(yintercept = giml_w_m$Gamma_Richness, color = 'yellow') +\n",
    "        geom_vline(xintercept = 0, color= 'yellow') + \n",
    "        labs(title = 'Weighted Gamma Diversity Computed Using Fromulas ') +\n",
    "        xlab(TeX('$q$')) +\n",
    "        ylab(TeX('$\\\\gamma$ Diversity'))) "
   ]
  },
  {
   "cell_type": "code",
   "execution_count": null,
   "metadata": {},
   "outputs": [],
   "source": [
    "qsum2_g_w_m <- NULL\n",
    "\n",
    "giml <- giml_df %>% \n",
    "  mutate(Total_Pop = sum(Count), \n",
    "         Prop = Count / Habitat_Pop, \n",
    "         Weight = Habitat_Pop / Total_Pop)\n",
    "\n",
    "for (q in range_2) {\n",
    "  \n",
    "    df2 <- NULL\n",
    "    \n",
    "    df2 <- giml %>%  \n",
    "      select(-Habitat) %>%\n",
    "      group_by(Species) %>%\n",
    "      mutate(Weighted_Prop = sum(Prop * Weight)) %>% \n",
    "      ungroup() %>%\n",
    "      select(Species, Weighted_Prop) %>%\n",
    "      unique()\n",
    "    \n",
    "    df2 <- df2 %>% \n",
    "      summarise(Giml_Manual = sum(Weighted_Prop ** q) ** (1 / (1 - q)),\n",
    "                q = q)\n",
    "    \n",
    "    qsum2_g_w_m <- rbind(qsum2_g_w_m, df2)\n",
    "    \n",
    "}\n",
    "\n",
    "print(qsum2_g_w_m %>% \n",
    "        ggplot(aes(x = q, y = Giml_Manual)) + \n",
    "        geom_line(color = 'blue') +\n",
    "        geom_hline(yintercept = giml_w_m$Gamma_Shannon, color = 'green') +\n",
    "        geom_vline(xintercept = 1, color= 'green') + \n",
    "        geom_hline(yintercept = giml_w_m$Gamma_Greenberg, color = 'yellow') +\n",
    "        geom_vline(xintercept = 2, color= 'yellow') + \n",
    "        labs(title = 'Weighted Gamma Diversity Computed Using Fromulas') +\n",
    "        xlab(TeX('$q$')) +\n",
    "        ylab(TeX('$\\\\gamma$ Diversity'))) "
   ]
  },
  {
   "cell_type": "markdown",
   "metadata": {},
   "source": [
    "### Visualizing Unweighted Gamma Diversity Computed Using `vegetarian::d`"
   ]
  },
  {
   "cell_type": "code",
   "execution_count": null,
   "metadata": {},
   "outputs": [],
   "source": [
    "qsum1_g_u_v <- NULL\n",
    "\n",
    "for (q in range_1) {\n",
    "  \n",
    "    df2 <- NULL\n",
    "    \n",
    "    df2 <- data.frame(d(df[, -c(1, 2)], lev = 'gamma', wt = 1 / N, q = q), q = q)\n",
    "    \n",
    "    names(df2) <- c('Giml_Vegetarian', 'q')\n",
    "    \n",
    "    qsum1_g_u_v <- rbind(qsum1_g_u_v, df2)\n",
    "    \n",
    "}\n",
    "\n",
    "print(qsum1_g_u_v %>% \n",
    "        ggplot(aes(x = q, y = Giml_Vegetarian)) + \n",
    "        geom_line(color = 'blue') +\n",
    "        geom_hline(yintercept = giml_u_v$Gamma_Shannon, color = 'green') +\n",
    "        geom_vline(xintercept = 1, color= 'green') + \n",
    "        geom_hline(yintercept = giml_u_v$Gamma_Richness, color = 'yellow') +\n",
    "        geom_vline(xintercept = 0, color= 'yellow') + \n",
    "        labs(title = 'Unweighted Gamma Diversity Computed Using vegetarian::d') +\n",
    "        xlab(TeX('$q$')) +\n",
    "        ylab(TeX('$\\\\gamma$ Diversity'))) "
   ]
  },
  {
   "cell_type": "code",
   "execution_count": null,
   "metadata": {},
   "outputs": [],
   "source": [
    "qsum2_g_u_v <- NULL\n",
    "\n",
    "for (q in range_2) {\n",
    "  \n",
    "    df2 <- NULL\n",
    "    \n",
    "    df2 <- data.frame(d(df[, -c(1, 2)], lev = 'gamma', wt = 1 / N, q = q), q = q)\n",
    "    \n",
    "    names(df2) <- c('Giml_Vegetarian', 'q')\n",
    "    \n",
    "    qsum2_g_u_v <- rbind(qsum2_g_u_v, df2)\n",
    "    \n",
    "}\n",
    "\n",
    "print(qsum2_g_u_v %>% \n",
    "        ggplot(aes(x = q, y = Giml_Vegetarian)) + \n",
    "        geom_line(color = 'blue') +\n",
    "        geom_hline(yintercept = giml_u_v$Gamma_Shannon, color = 'green') +\n",
    "        geom_vline(xintercept = 1, color= 'green') + \n",
    "        geom_hline(yintercept = giml_u_v$Gamma_Greenberg, color = 'yellow') +\n",
    "        geom_vline(xintercept = 2, color= 'yellow') + \n",
    "        labs(title = 'Unweighted Gamma Diversity Computed Using vegetarian::d') +\n",
    "        xlab(TeX('$q$')) +\n",
    "        ylab(TeX('$\\\\gamma$ Diversity'))) "
   ]
  },
  {
   "cell_type": "markdown",
   "metadata": {},
   "source": [
    "### Visualizing Weighted Gamma Diversity Computed Using `vegetarian::d`"
   ]
  },
  {
   "cell_type": "code",
   "execution_count": null,
   "metadata": {},
   "outputs": [],
   "source": [
    "qsum1_g_w_v <- NULL\n",
    "\n",
    "for (q in range_1) {\n",
    "  \n",
    "    df2 <- NULL\n",
    "    \n",
    "    df2 <- data.frame(d(df[, -c(1, 2)], lev = 'gamma', wt = df$Weight, q = q), q = q)\n",
    "    \n",
    "    names(df2) <- c('Giml_Vegetarian', 'q')\n",
    "    \n",
    "    qsum1_g_w_v <- rbind(qsum1_g_w_v, df2)\n",
    "    \n",
    "}\n",
    "\n",
    "print(qsum1_g_w_v %>% \n",
    "        ggplot(aes(x = q, y = Giml_Vegetarian)) + \n",
    "        geom_line(color = 'blue') +\n",
    "        geom_hline(yintercept = giml_w_v$Gamma_Shannon, color = 'green') +\n",
    "        geom_vline(xintercept = 1, color= 'green') + \n",
    "        geom_hline(yintercept = giml_w_v$Gamma_Richness, color = 'yellow') +\n",
    "        geom_vline(xintercept = 0, color= 'yellow') + \n",
    "        labs(title = 'Weighted Gamma Diversity Computed Using vegetarian::d') +\n",
    "        xlab(TeX('$q$')) +\n",
    "        ylab(TeX('$\\\\gamma$ Diversity'))) "
   ]
  },
  {
   "cell_type": "code",
   "execution_count": null,
   "metadata": {},
   "outputs": [],
   "source": [
    "qsum2_g_w_v <- NULL\n",
    "\n",
    "for (q in range_2) {\n",
    "  \n",
    "    df2 <- NULL\n",
    "    \n",
    "    df2 <- data.frame(d(df[, -c(1, 2)], lev = 'gamma', wt = df$Weight, q = q), q = q)\n",
    "    \n",
    "    names(df2) <- c('Giml_Vegetarian', 'q')\n",
    "    \n",
    "    qsum2_g_w_v <- rbind(qsum2_g_w_v, df2)\n",
    "    \n",
    "}\n",
    "\n",
    "print(qsum2_g_w_v %>% \n",
    "        ggplot(aes(x = q, y = Giml_Vegetarian)) + \n",
    "        geom_line(color = 'blue') +\n",
    "        geom_hline(yintercept = giml_w_v$Gamma_Shannon, color = 'green') +\n",
    "        geom_vline(xintercept = 1, color= 'green') + \n",
    "        geom_hline(yintercept = giml_w_v$Gamma_Greenberg, color = 'yellow') +\n",
    "        geom_vline(xintercept = 2, color= 'yellow') + \n",
    "        labs(title = 'Weighted Gamma Diversity Computed Using vegetarian::d') +\n",
    "        xlab(TeX('$q$')) +\n",
    "        ylab(TeX('$\\\\gamma$ Diversity'))) "
   ]
  },
  {
   "cell_type": "code",
   "execution_count": null,
   "metadata": {},
   "outputs": [],
   "source": [
    "alep <- DF %>% mutate(Total_Pop = sum(Count))"
   ]
  },
  {
   "cell_type": "markdown",
   "metadata": {},
   "source": [
    "### Visualizing Unweighted Alpha Diversity Computed Using Fromulas"
   ]
  },
  {
   "cell_type": "code",
   "execution_count": null,
   "metadata": {},
   "outputs": [],
   "source": [
    "qsum1_a_u_m <- NULL\n",
    "\n",
    "for (q in range_1) {\n",
    "  \n",
    "    df2 <- NULL\n",
    "\n",
    "    df2 <- alep %>%\n",
    "      group_by(Habitat) %>% \n",
    "      mutate(Habitat_Pop = sum(Count), \n",
    "             Prop = Count / Habitat_Pop,\n",
    "             Weight = 1 / N,\n",
    "             Smallqsum = sum((Prop * Weight) ** q),\n",
    "             q = q) %>%\n",
    "      ungroup() %>%\n",
    "      select(Habitat, Smallqsum, Weight, q) %>%\n",
    "      unique()\n",
    "    \n",
    "    suppressMessages(df2 <- df2 %>% \n",
    "                       group_by(q) %>% \n",
    "                       summarise(Alep_Manual = (sum(Smallqsum) / sum(Weight ** q)) ** (1 / (1 - q)), \n",
    "                                 q = q))\n",
    "    \n",
    "    qsum1_a_u_m <- rbind(qsum1_a_u_m, df2)\n",
    "    \n",
    "}\n",
    "\n",
    "print(qsum1_a_u_m %>% \n",
    "        ggplot(aes(x = q, y = Alep_Manual)) + \n",
    "        geom_line( color = 'blue') + \n",
    "        geom_hline(yintercept = alep_u_m$Alpha_Shannon, color = 'green') +\n",
    "        geom_vline(xintercept = 1, color = 'green') + \n",
    "        geom_hline(yintercept = alep_u_m$Alpha_Richness, color = 'yellow') +\n",
    "        geom_vline(xintercept = 0, color = 'yellow') + \n",
    "        labs(title = 'Unweighted Alpha Diversity Computed Using Fromulas ') +\n",
    "        xlab(TeX('$q$')) +\n",
    "        ylab(TeX('$\\\\alpha$ Diversity'))) "
   ]
  },
  {
   "cell_type": "code",
   "execution_count": null,
   "metadata": {},
   "outputs": [],
   "source": [
    "qsum2_a_u_m <- NULL\n",
    "\n",
    "for (q in range_2) {\n",
    "    \n",
    "    df2 <- NULL\n",
    "    \n",
    "    df2 <- alep %>%\n",
    "      group_by(Habitat) %>% \n",
    "      mutate(Habitat_Pop = sum(Count), \n",
    "             Prop = Count / Habitat_Pop,\n",
    "             Weight = 1 / N,\n",
    "             Smallqsum = sum((Prop * Weight) ** q),\n",
    "             q = q) %>%\n",
    "      ungroup() %>%\n",
    "      select(Habitat, Smallqsum, Weight, q) %>%\n",
    "      unique()\n",
    "    \n",
    "    suppressMessages(df2 <- df2 %>% \n",
    "                       group_by(q) %>% \n",
    "                       summarise(Alep_Manual = (sum(Smallqsum) / sum(Weight ** q)) ** (1 / (1 - q)), \n",
    "                                 q = q))\n",
    "    \n",
    "    qsum2_a_u_m <- rbind(qsum2_a_u_m, df2)\n",
    "}\n",
    "\n",
    "print(qsum2_a_u_m %>% \n",
    "        ggplot(aes(x = q, y = Alep_Manual)) + \n",
    "        geom_line( color = 'blue') + \n",
    "        geom_hline(yintercept = alep_u_m$Alpha_Shannon, color = 'green') +\n",
    "        geom_vline(xintercept = 1, color = 'green') + \n",
    "        geom_hline(yintercept = alep_u_m$Alpha_Greenberg, color = 'yellow') +\n",
    "        geom_vline(xintercept = 2, color = 'yellow') + \n",
    "        labs(title = 'Unweighted Alpha Diversity Computed Using Fromulas ') +\n",
    "        xlab(TeX('$q$')) +\n",
    "        ylab(TeX('$\\\\alpha$ Diversity')))  "
   ]
  },
  {
   "cell_type": "markdown",
   "metadata": {},
   "source": [
    "### Visualizing Weighted Alpha Diversity Computed Using Fromulas"
   ]
  },
  {
   "cell_type": "code",
   "execution_count": null,
   "metadata": {},
   "outputs": [],
   "source": [
    "qsum1_a_w_m <- NULL\n",
    "\n",
    "for (q in range_1) {\n",
    "  \n",
    "    df2 <- NULL\n",
    "\n",
    "    df2 <- alep %>%\n",
    "      group_by(Habitat) %>% \n",
    "      mutate(Habitat_Pop = sum(Count), \n",
    "             Prop = Count / Habitat_Pop,\n",
    "             Weight = Habitat_Pop / Total_Pop,\n",
    "             Smallqsum = sum((Prop * Weight) ** q),\n",
    "             q = q) %>%\n",
    "      ungroup() %>%\n",
    "      select(Habitat, Smallqsum, Weight, q) %>%\n",
    "      unique()\n",
    "    \n",
    "    suppressMessages(df2 <- df2 %>% \n",
    "                       group_by(q) %>% \n",
    "                       summarise(Alep_Manual = (sum(Smallqsum) / sum(Weight ** q)) ** (1 / (1 - q)), \n",
    "                                 q = q))\n",
    "    \n",
    "    qsum1_a_w_m <- rbind(qsum1_a_w_m, df2)\n",
    "    \n",
    "}\n",
    "\n",
    "print(qsum1_a_w_m %>% \n",
    "        ggplot(aes(x = q, y = Alep_Manual)) + \n",
    "        geom_line( color = 'blue') + \n",
    "        geom_hline(yintercept = alep_w_m$Alpha_Shannon, color = 'green') +\n",
    "        geom_vline(xintercept = 1, color = 'green') + \n",
    "        geom_hline(yintercept = alep_w_m$Alpha_Richness, color = 'yellow') +\n",
    "        geom_vline(xintercept = 0, color = 'yellow') + \n",
    "        labs(title = 'Weighted Alpha Diversity Computed Using Fromulas ') +\n",
    "        xlab(TeX('$q$')) +\n",
    "        ylab(TeX('$\\\\alpha$ Diversity'))) "
   ]
  },
  {
   "cell_type": "code",
   "execution_count": null,
   "metadata": {},
   "outputs": [],
   "source": [
    "qsum2_a_w_m <- NULL\n",
    "\n",
    "for (q in range_2) {\n",
    "    \n",
    "    df2 <- NULL\n",
    "    \n",
    "    df2 <- alep %>%\n",
    "      group_by(Habitat) %>% \n",
    "      mutate(Habitat_Pop = sum(Count), \n",
    "             Prop = Count / Habitat_Pop,\n",
    "             Weight = Habitat_Pop / Total_Pop,\n",
    "             Smallqsum = sum((Prop * Weight) ** q),\n",
    "             q = q) %>%\n",
    "      ungroup() %>%\n",
    "      select(Habitat, Smallqsum, Weight, q) %>%\n",
    "      unique()\n",
    "    \n",
    "    suppressMessages(df2 <- df2 %>% \n",
    "                       group_by(q) %>% \n",
    "                       summarise(Alep_Manual = (sum(Smallqsum) / sum(Weight ** q)) ** (1 / (1 - q)), \n",
    "                                 q = q))\n",
    "    \n",
    "    qsum2_a_w_m <- rbind(qsum2_a_w_m, df2)\n",
    "    \n",
    "}\n",
    "\n",
    "print(qsum2_a_w_m %>% \n",
    "        ggplot(aes(x = q, y = Alep_Manual)) + \n",
    "        geom_line( color = 'blue') + \n",
    "        geom_hline(yintercept = alep_w_m$Alpha_Shannon, color = 'green') +\n",
    "        geom_vline(xintercept = 1, color = 'green') + \n",
    "        geom_hline(yintercept = alep_w_m$Alpha_Greenberg, color = 'yellow') +\n",
    "        geom_vline(xintercept = 2, color = 'yellow') + \n",
    "        labs(title = 'Weighted Alpha Diversity Computed Using Fromulas ') +\n",
    "        xlab(TeX('$q$')) +\n",
    "        ylab(TeX('$\\\\alpha$ Diversity')))  "
   ]
  },
  {
   "cell_type": "markdown",
   "metadata": {},
   "source": [
    "### Visualizing Unweighted Alpha Diversity Computed Using `vegetarian::d`"
   ]
  },
  {
   "cell_type": "code",
   "execution_count": null,
   "metadata": {},
   "outputs": [],
   "source": [
    "qsum1_a_u_v <- NULL\n",
    "\n",
    "for (q in range_1) {\n",
    "  \n",
    "    df2 <- NULL\n",
    "    \n",
    "    df2 <- data.frame(d(df[, -c(1, 2)], lev = 'alpha', q = q), q = q)\n",
    "    \n",
    "    names(df2) <- c('Alep_Vegetarian', 'q')\n",
    "    \n",
    "    qsum1_a_u_v <- rbind(qsum1_a_u_v, df2)\n",
    "    \n",
    "}\n",
    "\n",
    "print(qsum1_a_u_v %>% \n",
    "        ggplot(aes(x = q, y = Alep_Vegetarian)) + \n",
    "        geom_line(color = 'blue') +\n",
    "        geom_hline(yintercept = alep_u_v$Alpha_Shannon, color = 'green') +\n",
    "        geom_vline(xintercept = 1, color= 'green') + \n",
    "        geom_hline(yintercept = alep_u_v$Alpha_Richness, color = 'yellow') +\n",
    "        geom_vline(xintercept = 0, color= 'yellow') + \n",
    "        labs(title = 'Unweighted Alpha Diversity Computed Using vegetarian::d') +\n",
    "        xlab(TeX('$q$')) +\n",
    "        ylab(TeX('$\\\\alpha$ Diversity'))) "
   ]
  },
  {
   "cell_type": "code",
   "execution_count": null,
   "metadata": {},
   "outputs": [],
   "source": [
    "qsum2_a_u_v <- NULL\n",
    "\n",
    "for (q in range_2) {\n",
    "  \n",
    "    df2 <- NULL\n",
    "    \n",
    "    df2 <- data.frame(d(df[, -c(1, 2)], lev = 'alpha', q = q), q = q)\n",
    "    \n",
    "    names(df2) <- c('Alep_Vegetarian', 'q')\n",
    "    \n",
    "    qsum2_a_u_v <- rbind(qsum2_a_u_v, df2)\n",
    "    \n",
    "}\n",
    "\n",
    "print(qsum2_a_u_v %>% \n",
    "        ggplot(aes(x = q, y = Alep_Vegetarian)) + \n",
    "        geom_line(color = 'blue') +\n",
    "        geom_hline(yintercept = alep_u_v$Alpha_Shannon, color = 'green') +\n",
    "        geom_vline(xintercept = 1, color= 'green') + \n",
    "        geom_hline(yintercept = alep_u_v$Alpha_Greenberg, color = 'yellow') +\n",
    "        geom_vline(xintercept = 2, color= 'yellow') + \n",
    "        labs(title = 'Unweighted Alpha Diversity Computed Using vegetarian::d') +\n",
    "        xlab(TeX('$q$')) +\n",
    "        ylab(TeX('$\\\\alpha$ Diversity'))) "
   ]
  },
  {
   "cell_type": "markdown",
   "metadata": {},
   "source": [
    "### Visualizing Weighted Alpha Diversity Computed Using `vegetarian::d``"
   ]
  },
  {
   "cell_type": "code",
   "execution_count": null,
   "metadata": {},
   "outputs": [],
   "source": [
    "qsum1_a_w_v <- NULL\n",
    "\n",
    "for (q in range_1) {\n",
    "  \n",
    "    df2 <- NULL\n",
    "    \n",
    "    df2 <- data.frame(d(df[, -c(1, 2)], lev = 'alpha', wt = df$Weight, q = q), q = q)\n",
    "    \n",
    "    names(df2) <- c('Alep_Vegetarian', 'q')\n",
    "    \n",
    "    qsum1_a_w_v <- rbind(qsum1_a_w_v, df2)\n",
    "    \n",
    "}\n",
    "\n",
    "print(qsum1_a_w_v %>% \n",
    "        ggplot(aes(x = q, y = Alep_Vegetarian)) + \n",
    "        geom_line( color = 'blue') + \n",
    "        geom_hline(yintercept = alep_w_v$Alpha_Shannon, color = 'green') +\n",
    "        geom_vline(xintercept = 1, color = 'green') + \n",
    "        geom_hline(yintercept = alep_w_v$Alpha_Richness, color = 'yellow') +\n",
    "        geom_vline(xintercept = 0, color = 'yellow') + \n",
    "        labs(title = 'Weighted Alpha Diversity Computed Using vegetarian::d') +\n",
    "        xlab(TeX('$q$')) +\n",
    "        ylab(TeX('$\\\\alpha$ Diversity'))) "
   ]
  },
  {
   "cell_type": "code",
   "execution_count": null,
   "metadata": {},
   "outputs": [],
   "source": [
    "qsum2_a_w_v <- NULL\n",
    "\n",
    "for (q in range_2) {\n",
    "    \n",
    "    df2 <- NULL\n",
    "    \n",
    "    df2 <- data.frame(d(df[, -c(1, 2)], lev = 'alpha', wt = df$Weight, q = q), q = q)\n",
    "    \n",
    "    names(df2) <- c('Alep_Vegetarian', 'q')\n",
    "    \n",
    "    qsum2_a_w_v <- rbind(qsum2_a_w_v, df2)\n",
    "    \n",
    "}\n",
    "\n",
    "print(qsum2_a_w_v %>% \n",
    "        ggplot(aes(x = q, y = Alep_Vegetarian)) + \n",
    "        geom_line( color = 'blue') + \n",
    "        geom_hline(yintercept = alep_w_v$Alpha_Shannon, color = 'green') +\n",
    "        geom_vline(xintercept = 1, color = 'green') + \n",
    "        geom_hline(yintercept = alep_w_v$Alpha_Greenberg, color = 'yellow') +\n",
    "        geom_vline(xintercept = 2, color = 'yellow') + \n",
    "        labs(title = 'Weighted Alpha Diversity Computed Using vegetarian::d') +\n",
    "        xlab(TeX('$q$')) +\n",
    "        ylab(TeX('$\\\\alpha$ Diversity')))  "
   ]
  },
  {
   "cell_type": "markdown",
   "metadata": {},
   "source": [
    "### Visualizing Unweighted Beta Diversity Computed Using Fromulas"
   ]
  },
  {
   "cell_type": "code",
   "execution_count": null,
   "metadata": {},
   "outputs": [],
   "source": [
    "qsum1_b_u_m <- inner_join(qsum1_g_u_m, qsum1_a_u_m, by = 'q')\n",
    "\n",
    "qsum1_b_u_m <- qsum1_b_u_m %>% mutate(Bet_Manual = Giml_Manual / Alep_Manual)\n",
    "\n",
    "print(qsum1_b_u_m %>%\n",
    "        ggplot(aes(x = q, y = Bet_Manual)) + \n",
    "        geom_line( color = 'blue') + \n",
    "        geom_hline(yintercept = bet_u_m$Beta_Shannon, color = 'green') +\n",
    "        geom_vline(xintercept = 1, color = 'green') + \n",
    "        geom_hline(yintercept = bet_u_m$Beta_Richness, color = 'yellow') +\n",
    "        geom_vline(xintercept = 0, color = 'yellow') + \n",
    "        labs(title = 'Unweighted Beta Diversity Computed Using Fromulas') +\n",
    "        xlab(TeX('$q$')) +\n",
    "        ylab(TeX('$\\\\beta$ Diversity')))  "
   ]
  },
  {
   "cell_type": "code",
   "execution_count": null,
   "metadata": {},
   "outputs": [],
   "source": [
    "qsum2_b_u_m <- inner_join(qsum2_g_u_m, qsum2_a_u_m, by = 'q')\n",
    "\n",
    "qsum2_b_u_m <- qsum2_b_u_m %>% mutate(Bet_Manual = Giml_Manual / Alep_Manual)\n",
    "\n",
    "print(qsum2_b_u_m %>% \n",
    "        ggplot(aes(x = q, y = Bet_Manual)) + \n",
    "        geom_line( color = 'blue') + \n",
    "        geom_hline(yintercept = bet_u_m$Beta_Shannon, color = 'green') +\n",
    "        geom_vline(xintercept = 1, color = 'green') + \n",
    "        geom_hline(yintercept = bet_u_m$Beta_Greenberg, color = 'yellow') +\n",
    "        geom_vline(xintercept = 2, color = 'yellow') + \n",
    "        labs(title = 'Unweighted Beta Diversity Computed Using Fromulas') +\n",
    "        xlab(TeX('$q$')) +\n",
    "        ylab(TeX('$\\\\beta$ Diversity')))  "
   ]
  },
  {
   "cell_type": "code",
   "execution_count": null,
   "metadata": {},
   "outputs": [],
   "source": [
    "# alternatively\n",
    "qsum1_b_u_v <- NULL\n",
    "\n",
    "for (q in range_1) {\n",
    "  \n",
    "    df2 <- NULL\n",
    "    \n",
    "    df2 <- data.frame(d(df[, -c(1, 2)], lev = 'beta', q = q), q = q)\n",
    "    \n",
    "    names(df2) <- c('Bet_Vegetarian', 'q')\n",
    "    \n",
    "    qsum1_b_u_v <- rbind(qsum1_b_u_v, df2)\n",
    "    \n",
    "}\n",
    "\n",
    "print(qsum1_b_u_v %>% \n",
    "        ggplot(aes(x = q, y = Bet_Vegetarian)) + \n",
    "        geom_line( color = 'blue') + \n",
    "        geom_hline(yintercept = bet_u_v$Beta_Shannon, color = 'green') +\n",
    "        geom_vline(xintercept = 1, color = 'green') + \n",
    "        geom_hline(yintercept = bet_u_v$Beta_Richness, color = 'yellow') +\n",
    "        geom_vline(xintercept = 0, color = 'yellow') + \n",
    "        labs(title = 'Weighted Alpha Diversity Computed Using vegetarian::d') +\n",
    "        xlab(TeX('$q$')) +\n",
    "        ylab(TeX('$\\\\alpha$ Diversity'))) "
   ]
  },
  {
   "cell_type": "code",
   "execution_count": null,
   "metadata": {},
   "outputs": [],
   "source": [
    "# alternatively\n",
    "qsum2_b_u_v <- NULL\n",
    "\n",
    "for (q in range_2) {\n",
    "    \n",
    "    df2 <- NULL\n",
    "    \n",
    "    df2 <- data.frame(d(df[, -c(1, 2)], lev = 'beta', q = q), q = q)\n",
    "    \n",
    "    names(df2) <- c('Bet_Vegetarian', 'q')\n",
    "    \n",
    "    qsum2_b_u_v <- rbind(qsum2_b_u_v, df2)\n",
    "    \n",
    "}\n",
    "\n",
    "print(qsum2_b_u_v %>% \n",
    "        ggplot(aes(x = q, y = Bet_Vegetarian)) + \n",
    "        geom_line( color = 'blue') + \n",
    "        geom_hline(yintercept = bet_u_v$Beta_Shannon, color = 'green') +\n",
    "        geom_vline(xintercept = 1, color = 'green') + \n",
    "        geom_hline(yintercept = bet_u_v$Beta_Greenberg, color = 'yellow') +\n",
    "        geom_vline(xintercept = 2, color = 'yellow') + \n",
    "        labs(title = 'Weighted Beta Diversity Computed Using vegetarian::d') +\n",
    "        xlab(TeX('$q$')) +\n",
    "        ylab(TeX('$\\\\beta$ Diversity')))  "
   ]
  },
  {
   "cell_type": "markdown",
   "metadata": {},
   "source": [
    "### Visualizing Weighted Beta Diversity Computed Using Fromulas"
   ]
  },
  {
   "cell_type": "code",
   "execution_count": null,
   "metadata": {},
   "outputs": [],
   "source": [
    "qsum1_b_w_m <- inner_join(qsum1_g_w_m, qsum1_a_w_m, by = 'q')\n",
    "\n",
    "qsum1_b_w_m <- qsum1_b_w_m %>% mutate(Bet_Manual = Giml_Manual / Alep_Manual)\n",
    "\n",
    "print(qsum1_b_w_m %>% \n",
    "        ggplot(aes(x = q, y = Bet_Manual)) + \n",
    "        geom_line( color = 'blue') + \n",
    "        geom_hline(yintercept = bet_w_m$Beta_Shannon, color = 'green') +\n",
    "        geom_vline(xintercept = 1, color = 'green') + \n",
    "        geom_hline(yintercept = bet_w_m$Beta_Richness, color = 'yellow') +\n",
    "        geom_vline(xintercept = 0, color = 'yellow') + \n",
    "        labs(title = 'Weighted Beta Diversity Computed Using Fromulas') +\n",
    "        xlab(TeX('$q$')) +\n",
    "        ylab(TeX('$\\\\beta$ Diversity')))  "
   ]
  },
  {
   "cell_type": "code",
   "execution_count": null,
   "metadata": {},
   "outputs": [],
   "source": [
    "qsum2_b_w_m <- inner_join(qsum2_g_w_m, qsum2_a_w_m, by = 'q')\n",
    "\n",
    "qsum2_b_w_m <- qsum2_b_w_m %>% mutate(Bet_Manual = Giml_Manual / Alep_Manual)\n",
    "\n",
    "print(qsum2_b_w_m %>% \n",
    "        ggplot(aes(x = q, y = Bet_Manual)) + \n",
    "        geom_line( color = 'blue') + \n",
    "        geom_hline(yintercept = bet_w_m$Beta_Shannon, color = 'green') +\n",
    "        geom_vline(xintercept = 1, color = 'green') + \n",
    "        geom_hline(yintercept = bet_w_m$Beta_Greenberg, color = 'yellow') +\n",
    "        geom_vline(xintercept = 2, color = 'yellow') + \n",
    "        labs(title = 'Weighted Beta Diversity Computed Using Fromulas') +\n",
    "        xlab(TeX('$q$')) +\n",
    "        ylab(TeX('$\\\\beta$ Diversity')))  "
   ]
  },
  {
   "cell_type": "markdown",
   "metadata": {},
   "source": [
    "### Visualizing Unweighted Beta Diversity Computed Using `vegetarian::d`"
   ]
  },
  {
   "cell_type": "code",
   "execution_count": null,
   "metadata": {},
   "outputs": [],
   "source": [
    "qsum1_b_u_v <- inner_join(qsum1_g_u_v, qsum1_a_u_v, by = 'q')\n",
    "\n",
    "qsum1_b_u_v <- qsum1_b_u_v %>% mutate(Bet_Vegetarian = Giml_Vegetarian / Alep_Vegetarian)\n",
    "\n",
    "print(qsum1_b_u_v %>% \n",
    "        ggplot(aes(x = q, y = Bet_Vegetarian)) + \n",
    "        geom_line( color = 'blue') + \n",
    "        geom_hline(yintercept = bet_u_v$Beta_Shannon, color = 'green') +\n",
    "        geom_vline(xintercept = 1, color = 'green') + \n",
    "        geom_hline(yintercept = bet_u_v$Beta_Richness, color = 'yellow') +\n",
    "        geom_vline(xintercept = 0, color = 'yellow') + \n",
    "        labs(title = 'Unweighted Beta Diversity Computed Using Fromulas') +\n",
    "        xlab(TeX('$q$')) +\n",
    "        ylab(TeX('$\\\\beta$ Diversity')))  "
   ]
  },
  {
   "cell_type": "code",
   "execution_count": null,
   "metadata": {},
   "outputs": [],
   "source": [
    "qsum2_b_u_v <- inner_join(qsum2_g_u_v, qsum2_a_u_v, by = 'q')\n",
    "\n",
    "qsum2_b_u_v <- qsum2_b_u_v %>% mutate(Bet_Vegetarian = Giml_Vegetarian / Alep_Vegetarian)\n",
    "\n",
    "print(qsum2_b_u_v %>%\n",
    "        ggplot(aes(x = q, y = Bet_Vegetarian)) + \n",
    "        geom_line( color = 'blue') + \n",
    "        geom_hline(yintercept = bet_u_v$Beta_Shannon, color = 'green') +\n",
    "        geom_vline(xintercept = 1, color = 'green') + \n",
    "        geom_hline(yintercept = bet_u_v$Beta_Greenberg, color = 'yellow') +\n",
    "        geom_vline(xintercept = 2, color = 'yellow') + \n",
    "        labs(title = 'Unweighted Beta Diversity Computed Using Fromulas') +\n",
    "        xlab(TeX('$q$')) +\n",
    "        ylab(TeX('$\\\\beta$ Diversity')))  "
   ]
  },
  {
   "cell_type": "markdown",
   "metadata": {},
   "source": [
    "### Visualizing Weighted Beta Diversity Computed Using `vegetarian::d`"
   ]
  },
  {
   "cell_type": "code",
   "execution_count": null,
   "metadata": {},
   "outputs": [],
   "source": [
    "qsum1_b_w_v <- inner_join(qsum1_g_w_v, qsum1_a_w_v, by = 'q')\n",
    "\n",
    "qsum1_b_w_v <- qsum1_b_w_v %>% mutate(Bet_Vegetarian = Giml_Vegetarian / Alep_Vegetarian)\n",
    "\n",
    "print(qsum1_b_w_v %>% \n",
    "        ggplot(aes(x = q, y = Bet_Vegetarian)) + \n",
    "        geom_line( color = 'blue') + \n",
    "        geom_hline(yintercept = bet_w_v$Beta_Shannon, color = 'green') +\n",
    "        geom_vline(xintercept = 1, color = 'green') + \n",
    "        geom_hline(yintercept = bet_w_v$Beta_Richness, color = 'yellow') +\n",
    "        geom_vline(xintercept = 0, color = 'yellow') + \n",
    "        labs(title = 'Weighted Beta Diversity Computed Using `vegetarian::d`') +\n",
    "        xlab(TeX('$q$')) +\n",
    "        ylab(TeX('$\\\\beta$ Diversity')))  "
   ]
  },
  {
   "cell_type": "code",
   "execution_count": null,
   "metadata": {},
   "outputs": [],
   "source": [
    "qsum2_b_w_v <- inner_join(qsum2_g_w_v, qsum2_a_w_v, by = 'q')\n",
    "\n",
    "qsum2_b_w_v <- qsum2_b_w_v %>% mutate(Bet_Vegetarian = Giml_Vegetarian / Alep_Vegetarian)\n",
    "\n",
    "print(qsum2_b_w_v %>% \n",
    "        ggplot(aes(x = q, y = Bet_Vegetarian)) + \n",
    "        geom_line( color = 'blue') + \n",
    "        geom_hline(yintercept = bet_w_v$Beta_Shannon, color = 'green') +\n",
    "        geom_vline(xintercept = 1, color = 'green') + \n",
    "        geom_hline(yintercept = bet_w_v$Beta_Greenberg, color = 'yellow') +\n",
    "        geom_vline(xintercept = 2, color = 'yellow') + \n",
    "        labs(title = 'Weighted Beta Diversity Computed Using vegetarian::d') +\n",
    "        xlab(TeX('$q$')) +\n",
    "        ylab(TeX('$\\\\beta$ Diversity')))  "
   ]
  },
  {
   "cell_type": "code",
   "execution_count": null,
   "metadata": {},
   "outputs": [],
   "source": [
    "# alternatively\n",
    "qsum1_b_w_v <- NULL\n",
    "\n",
    "for (q in range_1) {\n",
    "  \n",
    "    df2 <- NULL\n",
    "    \n",
    "    df2 <- data.frame(d(df[, -c(1, 2)], lev = 'beta', wt = df$Weight, q = q), q = q)\n",
    "    \n",
    "    names(df2) <- c('Bet_Vegetarian', 'q')\n",
    "    \n",
    "    qsum1_b_w_v <- rbind(qsum1_b_w_v, df2)\n",
    "    \n",
    "}\n",
    "\n",
    "print(qsum1_b_w_v %>% \n",
    "        ggplot(aes(x = q, y = Bet_Vegetarian)) + \n",
    "        geom_line( color = 'blue') + \n",
    "        geom_hline(yintercept = bet_w_v$Beta_Shannon, color = 'green') +\n",
    "        geom_vline(xintercept = 1, color = 'green') + \n",
    "        geom_hline(yintercept = bet_w_v$Beta_Richness, color = 'yellow') +\n",
    "        geom_vline(xintercept = 0, color = 'yellow') + \n",
    "        labs(title = 'Weighted Beta Diversity Computed Using vegetarian::d') +\n",
    "        xlab(TeX('$q$')) +\n",
    "        ylab(TeX('$\\\\alpha$ Diversity'))) "
   ]
  },
  {
   "cell_type": "code",
   "execution_count": null,
   "metadata": {},
   "outputs": [],
   "source": [
    "# alternatively\n",
    "qsum2_b_w_v <- NULL\n",
    "\n",
    "for (q in range_2) {\n",
    "    \n",
    "    df2 <- NULL\n",
    "    \n",
    "    df2 <- data.frame(d(df[, -c(1, 2)], lev = 'beta', wt = df$Weight, q = q), q = q)\n",
    "    \n",
    "    names(df2) <- c('Bet_Vegetarian', 'q')\n",
    "    \n",
    "    qsum2_b_w_v <- rbind(qsum2_b_w_v, df2)\n",
    "    \n",
    "}\n",
    "\n",
    "print(qsum2_b_w_v %>% \n",
    "        ggplot(aes(x = q, y = Bet_Vegetarian)) + \n",
    "        geom_line( color = 'blue') + \n",
    "        geom_hline(yintercept = bet_w_v$Beta_Shannon, color = 'green') +\n",
    "        geom_vline(xintercept = 1, color = 'green') + \n",
    "        geom_hline(yintercept = bet_w_v$Beta_Greenberg, color = 'yellow') +\n",
    "        geom_vline(xintercept = 2, color = 'yellow') + \n",
    "        labs(title = 'Weighted Beta Diversity Computed Using vegetarian::d') +\n",
    "        xlab(TeX('$q$')) +\n",
    "        ylab(TeX('$\\\\beta$ Diversity')))  "
   ]
  },
  {
   "cell_type": "markdown",
   "metadata": {},
   "source": [
    "# MacArthur’s Homogeneity Measure\n",
    "\n",
    "### Order 0 (Richness)"
   ]
  },
  {
   "cell_type": "code",
   "execution_count": null,
   "metadata": {},
   "outputs": [],
   "source": [
    "# using formulas\n",
    "alep_u_m$Alpha_Richness / giml_u_m$Gamma_Richness \n",
    "# using vegetarian::M.homog\n",
    "M.homog(df[, -c(1, 2)], q = 0)\n",
    "# alternatively\n",
    "alep_u_v$Alpha_Richness / giml_u_v$Gamma_Richness "
   ]
  },
  {
   "cell_type": "markdown",
   "metadata": {},
   "source": [
    "### Order 1 (Shannon)"
   ]
  },
  {
   "cell_type": "code",
   "execution_count": null,
   "metadata": {},
   "outputs": [],
   "source": [
    "# using formulas\n",
    "alep_u_m$Alpha_Shannon / giml_u_m$Gamma_Shannon\n",
    "# using vegetarian::M.homog\n",
    "M.homog(df[, -c(1, 2)])\n",
    "# using vegetarian\n",
    "alep_u_v$Alpha_Shannon / giml_u_v$Gamma_Shannon"
   ]
  },
  {
   "cell_type": "markdown",
   "metadata": {},
   "source": [
    "### Order 2 (Greenberg)"
   ]
  },
  {
   "cell_type": "code",
   "execution_count": null,
   "metadata": {},
   "outputs": [],
   "source": [
    "# using formulas\n",
    "alep_u_m$Alpha_Greenberg / giml_u_m$Gamma_Greenberg\n",
    "# using vegetarian::M.homog\n",
    "M.homog(df[, -c(1, 2)], q = 2)\n",
    "# alternatively\n",
    "alep_u_v$Alpha_Greenberg / giml_u_v$Gamma_Greenberg"
   ]
  },
  {
   "cell_type": "markdown",
   "metadata": {},
   "source": [
    "# Relative Homogeneity\n",
    "\n",
    "## Unweighted"
   ]
  },
  {
   "cell_type": "code",
   "execution_count": null,
   "metadata": {},
   "outputs": [],
   "source": [
    "# using formulas\n",
    "homog_u_m <- data.frame(list((1 / bet_u_m$Beta_Richness - 1 / N) / (1 - 1 / N),\n",
    "                             (1 / bet_u_m$Beta_Shannon - 1 / N) / (1 - 1 / N), \n",
    "                             (1 / bet_u_m$Beta_Greenberg - 1 / N) / (1 - 1 / N)))\n",
    "\n",
    "names(homog_u_m) <- c('Order 0 Homogeneity', \n",
    "                      'Order 1 Homogeneity', \n",
    "                      'Order 2 Homogeneity')\n",
    "\n",
    "homog_u_m"
   ]
  },
  {
   "cell_type": "code",
   "execution_count": null,
   "metadata": {},
   "outputs": [],
   "source": [
    "# using vegetarian::Rel.homog\n",
    "Rel.homog(df[, -c(1, 2)])"
   ]
  },
  {
   "cell_type": "markdown",
   "metadata": {},
   "source": [
    "## Weighted"
   ]
  },
  {
   "cell_type": "code",
   "execution_count": null,
   "metadata": {},
   "outputs": [],
   "source": [
    "# using formulas\n",
    "d_1_w_m <- exp(-sum(df$Weight * log(df$Weight))) \n",
    "\n",
    "(1 / bet_w_m$Beta_Shannon - 1 / d_1_w_m) / (1 - 1 / d_1_w_m)\n",
    "\n",
    "(1 / bet_u_m$Beta_Shannon - 1 / d_1_w_m) / (1 - 1 / d_1_w_m)"
   ]
  },
  {
   "cell_type": "code",
   "execution_count": null,
   "metadata": {},
   "outputs": [],
   "source": [
    "# using vegetarian::Rel.homog\n",
    "Rel.homog(df[, -c(1, 2)], wt = df$Weight)\n",
    "# is there a bug in vegetarian::Rel.homog?"
   ]
  },
  {
   "cell_type": "markdown",
   "metadata": {},
   "source": [
    "# Turnover\n",
    "\n",
    "### Order 0 (Richness)"
   ]
  },
  {
   "cell_type": "code",
   "execution_count": null,
   "metadata": {},
   "outputs": [],
   "source": [
    "# using formulas\n",
    "(bet_u_m$Beta_Richness - 1) / (N - 1)\n",
    "# using vegetarian::turnover\n",
    "turnover(df[, -c(1, 2)], q = 0)\n",
    "# alternatively\n",
    "(bet_u_v$Beta_Richness - 1) / (N - 1)"
   ]
  },
  {
   "cell_type": "markdown",
   "metadata": {},
   "source": [
    "### Order 1 (Shannon)"
   ]
  },
  {
   "cell_type": "code",
   "execution_count": null,
   "metadata": {},
   "outputs": [],
   "source": [
    "# using formulas\n",
    "(bet_u_m$Beta_Shannon - 1) / (N - 1)\n",
    "# using vegetarian::turnover\n",
    "turnover(df[, -c(1, 2)])\n",
    "# alternatively\n",
    "(bet_u_v$Beta_Shannon - 1) / (N - 1)"
   ]
  },
  {
   "cell_type": "markdown",
   "metadata": {},
   "source": [
    "### Order 2 (Greenberg)"
   ]
  },
  {
   "cell_type": "code",
   "execution_count": null,
   "metadata": {},
   "outputs": [],
   "source": [
    "# using formulas\n",
    "(bet_u_m$Beta_Greenberg - 1) / (N - 1)\n",
    "# using vegetarian::turnover\n",
    "turnover(df[, -c(1, 2)], q = 2)\n",
    "# alternatively\n",
    "(bet_u_v$Beta_Greenberg - 1) / (N - 1)"
   ]
  }
 ],
 "metadata": {
  "kernelspec": {
   "display_name": "R",
   "language": "R",
   "name": "ir"
  },
  "language_info": {
   "codemirror_mode": "r",
   "file_extension": ".r",
   "mimetype": "text/x-r-source",
   "name": "R",
   "pygments_lexer": "r",
   "version": "4.0.3"
  }
 },
 "nbformat": 4,
 "nbformat_minor": 4
}
